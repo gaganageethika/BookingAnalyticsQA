{
 "cells": [
  {
   "cell_type": "code",
   "execution_count": 14,
   "metadata": {
    "vscode": {
     "languageId": "plaintext"
    }
   },
   "outputs": [
    {
     "name": "stderr",
     "output_type": "stream",
     "text": [
      "C:\\Users\\GAGGU\\AppData\\Local\\Temp\\ipykernel_21684\\2510425195.py:8: UserWarning: Could not infer format, so each element will be parsed individually, falling back to `dateutil`. To ensure parsing is consistent and as-expected, please specify a format.\n",
      "  df['reservation_status_date'] = pd.to_datetime(df['reservation_status_date'])\n"
     ]
    }
   ],
   "source": [
    "import pandas as pd\n",
    "import os\n",
    "\n",
    "file_path = os.path.join(os.getcwd().strip(\"notebooks\"), \"data\", \"hotel_bookings.csv\")\n",
    "df = pd.read_csv(file_path)\n",
    "\n",
    "# Convert dates\n",
    "df['reservation_status_date'] = pd.to_datetime(df['reservation_status_date'])\n",
    "\n",
    "# Handle missing values\n",
    "df.fillna(0, inplace=True)\n",
    "\n",
    "# Save cleaned data\n",
    "df.to_csv(os.path.join(os.getcwd().strip(\"notebooks\"), \"data\", \"cleaned_bookings.csv\"),index=False)\n"
   ]
  },
  {
   "cell_type": "code",
   "execution_count": null,
   "metadata": {
    "vscode": {
     "languageId": "plaintext"
    }
   },
   "outputs": [],
   "source": []
  }
 ],
 "metadata": {
  "kernelspec": {
   "display_name": "Python 3 (ipykernel)",
   "language": "python",
   "name": "python3"
  },
  "language_info": {
   "codemirror_mode": {
    "name": "ipython",
    "version": 3
   },
   "file_extension": ".py",
   "mimetype": "text/x-python",
   "name": "python",
   "nbconvert_exporter": "python",
   "pygments_lexer": "ipython3",
   "version": "3.11.9"
  }
 },
 "nbformat": 4,
 "nbformat_minor": 4
}
